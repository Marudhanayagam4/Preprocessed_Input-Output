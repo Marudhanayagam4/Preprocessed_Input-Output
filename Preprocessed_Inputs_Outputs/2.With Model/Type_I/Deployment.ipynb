{
 "cells": [
  {
   "cell_type": "code",
   "execution_count": 1,
   "id": "22e8cdfd-9961-471c-9ace-edd284dd6fe4",
   "metadata": {},
   "outputs": [],
   "source": [
    "import pickle\n",
    "# Load the saved dictionary containing the model and scalers\n",
    "with open(\"final_model.sav\", \"rb\") as f:\n",
    "    saved_objects=pickle.load(f)\n",
    "\n",
    "# Extract the model and scalers\n",
    "model = saved_objects['model']\n",
    "scx=saved_objects['Scaler_X']\n",
    "scy=saved_objects['Scaler_Y']"
   ]
  },
  {
   "cell_type": "code",
   "execution_count": 2,
   "id": "3573f264-d2d9-4024-b130-8c316d970277",
   "metadata": {},
   "outputs": [
    {
     "name": "stdin",
     "output_type": "stream",
     "text": [
      "Age: 25\n",
      "BMI: 25\n",
      "Children: 4\n",
      "Sex_Male: 0/1 0\n",
      "Smoker_yes 0 / 1:  1\n"
     ]
    },
    {
     "name": "stderr",
     "output_type": "stream",
     "text": [
      "C:\\Anaconda3\\Lib\\site-packages\\sklearn\\base.py:493: UserWarning: X does not have valid feature names, but StandardScaler was fitted with feature names\n",
      "  warnings.warn(\n"
     ]
    },
    {
     "data": {
      "text/plain": [
       "array([[-1.03327874, -0.92299913,  2.42515947, -0.97676557,  1.98149332]])"
      ]
     },
     "execution_count": 2,
     "metadata": {},
     "output_type": "execute_result"
    }
   ],
   "source": [
    "# user input \n",
    "age=int(input(\"Age:\"))\n",
    "bmi=float(input(\"BMI:\"))\n",
    "children=int(input(\"Children:\"))\n",
    "sex_male=int(input(\"Sex_Male: 0/1\"))\n",
    "smoker_yes=int(input(\"Smoker_yes 0 / 1: \"))\n",
    "\n",
    "# Transform the user input data using the input scaler\n",
    "preInput=scx.transform([[age,bmi,children,sex_male,smoker_yes]])\n",
    "preInput"
   ]
  },
  {
   "cell_type": "code",
   "execution_count": null,
   "id": "04fb8dfe-fdfa-4799-bd2d-283602514b15",
   "metadata": {},
   "outputs": [],
   "source": [
    "# Predict the standardized output using the trained model\n",
    "result=model.predict(preInput)\n",
    "result"
   ]
  },
  {
   "cell_type": "code",
   "execution_count": null,
   "id": "77343558-bcc3-420b-8f93-a951adaac7fd",
   "metadata": {},
   "outputs": [],
   "source": [
    "# Inverse transform the output to get the raw output\n",
    "preOutput=scy.inverse_transform([result])\n",
    "preOutput\n",
    "print(f\"Predicted Charges: {preOutput[0][0]:.2f}\")"
   ]
  }
 ],
 "metadata": {
  "kernelspec": {
   "display_name": "Python 3 (ipykernel)",
   "language": "python",
   "name": "python3"
  },
  "language_info": {
   "codemirror_mode": {
    "name": "ipython",
    "version": 3
   },
   "file_extension": ".py",
   "mimetype": "text/x-python",
   "name": "python",
   "nbconvert_exporter": "python",
   "pygments_lexer": "ipython3",
   "version": "3.12.4"
  }
 },
 "nbformat": 4,
 "nbformat_minor": 5
}
