{
 "cells": [
  {
   "cell_type": "code",
   "execution_count": null,
   "id": "064b58a6-3c2d-4caf-8a95-7663325e3c58",
   "metadata": {},
   "outputs": [],
   "source": [
    "# Data Collection\n",
    "import pandas as pd\n",
    "dataset=pd.read_csv(\"insurance_pre.csv\")\n",
    "dataset"
   ]
  },
  {
   "cell_type": "code",
   "execution_count": null,
   "id": "8f4137b0-ab07-4ad3-8f70-c959efc1e153",
   "metadata": {},
   "outputs": [],
   "source": [
    "# Data preprocessing - nominal to numerical data - one hot encoding method\n",
    "dataset=pd.get_dummies(dataset,dtype=int,drop_first=True)\n",
    "dataset"
   ]
  },
  {
   "cell_type": "code",
   "execution_count": null,
   "id": "83ac25cf-7730-4f4f-9e83-2c3ce72a28ab",
   "metadata": {},
   "outputs": [],
   "source": [
    "dataset.columns"
   ]
  },
  {
   "cell_type": "code",
   "execution_count": null,
   "id": "1083a5f7-183d-42d3-944f-91924107bf67",
   "metadata": {},
   "outputs": [],
   "source": [
    "indep=dataset[['age', 'bmi', 'children', 'sex_male', 'smoker_yes']]\n",
    "dep=dataset[['charges']]\n",
    "dep"
   ]
  },
  {
   "cell_type": "code",
   "execution_count": null,
   "id": "7f240be3-39bd-44cf-8a4a-7c0a6ccadb68",
   "metadata": {},
   "outputs": [],
   "source": [
    "# split train and test set\n",
    "from sklearn.model_selection import train_test_split\n",
    "X_train,X_test,Y_train,Y_test=train_test_split(indep,dep,test_size=0.3, random_state=0)\n",
    "X_train"
   ]
  },
  {
   "cell_type": "code",
   "execution_count": null,
   "id": "00acce7c-17e3-4811-865b-2d677f8d4966",
   "metadata": {},
   "outputs": [],
   "source": [
    "# Standardisation-Pre processing method - rescales data to a consistent format-easier to understand and use\n",
    "from sklearn.preprocessing import StandardScaler\n",
    "sc=StandardScaler()\n",
    "X_train=sc.fit_transform(X_train)\n",
    "X_test=sc.transform(X_test)\n",
    "X_test"
   ]
  },
  {
   "cell_type": "code",
   "execution_count": null,
   "id": "15f56cf1-5ae5-4ba4-9d43-23018bee6686",
   "metadata": {},
   "outputs": [],
   "source": [
    "scy=StandardScaler()\n",
    "Y_train=scy.fit_transform(Y_train)\n",
    "Y_test=scy.transform(Y_test)\n",
    "Y_test"
   ]
  },
  {
   "cell_type": "code",
   "execution_count": null,
   "id": "fc6c48da-4235-4cb4-9edc-a7e05bd42523",
   "metadata": {},
   "outputs": [],
   "source": [
    "# Model creation\n",
    "from sklearn.model_selection import GridSearchCV\n",
    "from sklearn.ensemble import RandomForestRegressor\n",
    "param_grid={\n",
    "    'criterion':['squared_error', 'absolute_error', 'friedman_mse', 'poisson'],\n",
    "    'n_estimators':[50,100],\n",
    "    'max_features':['sqrt','log2',None]\n",
    "}\n",
    "grid=GridSearchCV(RandomForestRegressor(),param_grid, refit=True, verbose=5, n_jobs=-1)\n",
    "grid.fit(X_train,Y_train) # training the model"
   ]
  },
  {
   "cell_type": "code",
   "execution_count": null,
   "id": "058acdf3-23a2-475b-a6ca-e846a29cfbf8",
   "metadata": {},
   "outputs": [],
   "source": [
    "grid.best_params_"
   ]
  },
  {
   "cell_type": "code",
   "execution_count": null,
   "id": "898f2dbb-f78f-45cb-8e6d-7e1db7554a31",
   "metadata": {},
   "outputs": [],
   "source": [
    "y_pred=grid.predict(X_test)\n",
    "y_pred"
   ]
  },
  {
   "cell_type": "code",
   "execution_count": null,
   "id": "a97b3ff4-fbb1-4320-a9cc-56b66b16eda8",
   "metadata": {},
   "outputs": [],
   "source": [
    "from sklearn.metrics import r2_score\n",
    "r2=r2_score(y_pred,Y_test)\n",
    "print(f\"R2 score = {r2:.2f}\")"
   ]
  },
  {
   "cell_type": "code",
   "execution_count": null,
   "id": "6d4d1ff4-5569-4055-b50f-3e5d1bfc6423",
   "metadata": {},
   "outputs": [],
   "source": [
    "re=grid.cv_results_\n",
    "table=pd.DataFrame.from_dict(re)\n",
    "table"
   ]
  },
  {
   "cell_type": "code",
   "execution_count": null,
   "id": "dd615b21-392b-4a81-8ccf-830fd2aa9637",
   "metadata": {},
   "outputs": [],
   "source": [
    "# save the best model\n",
    "import pickle\n",
    "filename=\"final_model.sav\"\n",
    "pickle.dump(grid, open(filename,'wb'))\n"
   ]
  },
  {
   "cell_type": "code",
   "execution_count": null,
   "id": "f0e81b19-5e8b-45c2-8a54-f6378f9bb049",
   "metadata": {},
   "outputs": [],
   "source": []
  },
  {
   "cell_type": "code",
   "execution_count": null,
   "id": "31615f35-b232-40c5-ba55-7f68b44c25ce",
   "metadata": {},
   "outputs": [],
   "source": []
  },
  {
   "cell_type": "code",
   "execution_count": null,
   "id": "df602f83-d8f9-46f5-a783-18c637a0eeb2",
   "metadata": {},
   "outputs": [],
   "source": []
  }
 ],
 "metadata": {
  "kernelspec": {
   "display_name": "Python 3 (ipykernel)",
   "language": "python",
   "name": "python3"
  },
  "language_info": {
   "codemirror_mode": {
    "name": "ipython",
    "version": 3
   },
   "file_extension": ".py",
   "mimetype": "text/x-python",
   "name": "python",
   "nbconvert_exporter": "python",
   "pygments_lexer": "ipython3",
   "version": "3.12.4"
  }
 },
 "nbformat": 4,
 "nbformat_minor": 5
}
